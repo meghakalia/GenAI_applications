{
  "nbformat": 4,
  "nbformat_minor": 0,
  "metadata": {
    "colab": {
      "provenance": [],
      "authorship_tag": "ABX9TyNUjefCd8X4Bjezdp/sM0zH",
      "include_colab_link": true
    },
    "kernelspec": {
      "name": "python3",
      "display_name": "Python 3"
    },
    "language_info": {
      "name": "python"
    }
  },
  "cells": [
    {
      "cell_type": "markdown",
      "metadata": {
        "id": "view-in-github",
        "colab_type": "text"
      },
      "source": [
        "<a href=\"https://colab.research.google.com/github/meghakalia/GenAI_applications/blob/main/Copy_of_music_gen.ipynb\" target=\"_parent\"><img src=\"https://colab.research.google.com/assets/colab-badge.svg\" alt=\"Open In Colab\"/></a>"
      ]
    },
    {
      "cell_type": "code",
      "source": [
        "from IPython.display import Audio\n",
        "import scipy"
      ],
      "metadata": {
        "id": "ZzDmFRX8p5Oo"
      },
      "execution_count": null,
      "outputs": []
    },
    {
      "cell_type": "code",
      "execution_count": null,
      "metadata": {
        "id": "zyfXyCU8pxqg"
      },
      "outputs": [],
      "source": [
        "# unconditiional generation\n",
        "\n",
        "# from transformers import MusicgenForConditionalGeneration\n",
        "\n",
        "# model = MusicgenForConditionalGeneration.from_pretrained(\"facebook/musicgen-small\")\n",
        "# unconditional_inputs = model.get_unconditional_inputs(num_samples=1)\n",
        "\n",
        "# audio_values = model.generate(**unconditional_inputs, do_sample=True, max_new_tokens=256)"
      ]
    },
    {
      "cell_type": "code",
      "source": [
        "\n",
        "# sampling_rate = model.config.audio_encoder.sampling_rate\n",
        "# Audio(audio_values[0].numpy(), rate=sampling_rate)"
      ],
      "metadata": {
        "id": "FbZn-gWdsPNx"
      },
      "execution_count": null,
      "outputs": []
    },
    {
      "cell_type": "code",
      "source": [
        "# import scipy\n",
        "\n",
        "# sampling_rate = model.config.audio_encoder.sampling_rate\n",
        "# scipy.io.wavfile.write(\"musicgen_out.wav\", rate=sampling_rate, data=audio_values[0, 0].numpy())"
      ],
      "metadata": {
        "id": "V4YR_MZRtXC_"
      },
      "execution_count": null,
      "outputs": []
    },
    {
      "cell_type": "code",
      "source": [
        "\n"
      ],
      "metadata": {
        "id": "-iLjP_88t_oo"
      },
      "execution_count": null,
      "outputs": []
    },
    {
      "cell_type": "code",
      "source": [
        "#text conditional generation\n",
        "from transformers import AutoProcessor, MusicgenForConditionalGeneration\n",
        "\n",
        "processor = AutoProcessor.from_pretrained(\"facebook/musicgen-small\")\n",
        "model = MusicgenForConditionalGeneration.from_pretrained(\"facebook/musicgen-small\")\n",
        "\n",
        "inputs = processor(\n",
        "    text=[\"indian classical sitar\", \"hard drum beats\"],\n",
        "    padding=True,\n",
        "    return_tensors=\"pt\",\n",
        ")\n",
        "audio_values = model.generate(**inputs, do_sample=True, guidance_scale=3, max_new_tokens=256)"
      ],
      "metadata": {
        "id": "VoW_ju7GsO8I"
      },
      "execution_count": null,
      "outputs": []
    },
    {
      "cell_type": "code",
      "source": [
        "sampling_rate = model.config.audio_encoder.sampling_rate\n",
        "Audio(audio_values[0].numpy(), rate=sampling_rate)"
      ],
      "metadata": {
        "id": "yanxLCbeu9XR"
      },
      "execution_count": null,
      "outputs": []
    },
    {
      "cell_type": "code",
      "source": [
        "sampling_rate = model.config.audio_encoder.sampling_rate\n",
        "scipy.io.wavfile.write(\"sitar_bhangra_music_drums.wav\", rate=sampling_rate, data=audio_values[0, 0].numpy())"
      ],
      "metadata": {
        "id": "28ZiWAN0wo2x"
      },
      "execution_count": null,
      "outputs": []
    }
  ]
}